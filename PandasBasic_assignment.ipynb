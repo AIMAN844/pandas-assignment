{
 "cells": [
  {
   "cell_type": "markdown",
   "id": "133b0caa-edc5-4250-9149-9c7edb7fb13d",
   "metadata": {},
   "source": [
    "Q1- Q1. Create a Pandas Series that contains the following data: 4, 8, 15, 16, 23, and 42. Then, print the series."
   ]
  },
  {
   "cell_type": "code",
   "execution_count": 1,
   "id": "863c4155-4132-4f3e-a0fe-60e31f1bec4f",
   "metadata": {},
   "outputs": [
    {
     "name": "stdout",
     "output_type": "stream",
     "text": [
      "0     4\n",
      "1     8\n",
      "2    15\n",
      "3    16\n",
      "4    23\n",
      "5    42\n",
      "dtype: int64\n"
     ]
    }
   ],
   "source": [
    "#Ans-\n",
    "import pandas as pd\n",
    "\n",
    "data = [4, 8, 15, 16, 23, 42]\n",
    "series_q1 = pd.Series(data)\n",
    "print(series_q1)\n"
   ]
  },
  {
   "cell_type": "markdown",
   "id": "4d31d92d-93fc-477b-b550-df56fba35566",
   "metadata": {},
   "source": [
    "Q2- Q2. Create a variable of list type containing 10 elements in it, and apply pandas.Series function on the variable print it."
   ]
  },
  {
   "cell_type": "code",
   "execution_count": 2,
   "id": "57f4ad8d-cfc9-4256-81c7-5c097a88951b",
   "metadata": {},
   "outputs": [
    {
     "name": "stdout",
     "output_type": "stream",
     "text": [
      "0     1\n",
      "1     2\n",
      "2     3\n",
      "3     4\n",
      "4     5\n",
      "5     6\n",
      "6     7\n",
      "7     8\n",
      "8     9\n",
      "9    10\n",
      "dtype: int64\n"
     ]
    }
   ],
   "source": [
    "#Ans2-\n",
    "import pandas as pd\n",
    "\n",
    "my_list = [1, 2, 3, 4, 5, 6, 7, 8, 9, 10]\n",
    "\n",
    "series_q2 = pd.Series(my_list)\n",
    "print(series_q2)\n"
   ]
  },
  {
   "cell_type": "markdown",
   "id": "150327db-a5f0-4232-b65f-34e435ffd3ff",
   "metadata": {},
   "source": [
    "Q3-Q3. Create a Pandas DataFrame that contains the following data:\n",
    "Then, print the DataFrame.\n",
    "Name\n",
    "Alice\n",
    "Bob\n",
    "Claire\n",
    "\n",
    "Age\n",
    "25\n",
    "30\n",
    "27\n",
    "\n",
    "Gender\n",
    "Female\n",
    "Male\n",
    "Female\n",
    "\n"
   ]
  },
  {
   "cell_type": "markdown",
   "id": "c938daa5-7d3b-4ec8-b844-8d352385b2b5",
   "metadata": {},
   "source": [
    "#Ans-\n",
    "import pandas as pd\n",
    "\n",
    "data_q3 = {\n",
    "    'Name': ['Alice', 'Bob', 'Claire'],\n",
    "    'Age': [25, 30, 27],\n",
    "    'Gender': ['Female', 'Male', 'Female']\n",
    "}\n",
    "\n",
    "df_q3 = pd.DataFrame(data_q3)\n",
    "print(df_q3)\n"
   ]
  },
  {
   "cell_type": "markdown",
   "id": "5c56dc30-1bb8-4de3-9545-595f8695eaad",
   "metadata": {},
   "source": [
    "Q4- Q4. What is ‘DataFrame’ in pandas and how is it different from pandas.series? Explain with an example."
   ]
  },
  {
   "cell_type": "code",
   "execution_count": 4,
   "id": "555a48b9-e236-4cc7-8d69-3e2210e63852",
   "metadata": {},
   "outputs": [
    {
     "name": "stdout",
     "output_type": "stream",
     "text": [
      "DataFrame:\n",
      "      Name  Age           City\n",
      "0    Alice   25       New York\n",
      "1      Bob   30  San Francisco\n",
      "2  Charlie   35    Los Angeles\n",
      "\n",
      "Series:\n",
      "0    25\n",
      "1    30\n",
      "2    35\n",
      "Name: Age, dtype: int64\n"
     ]
    }
   ],
   "source": [
    "#Ans-import pandas as pd\n",
    "\n",
    "data = {\n",
    "    'Name': ['Alice', 'Bob', 'Charlie'],\n",
    "    'Age': [25, 30, 35],\n",
    "    'City': ['New York', 'San Francisco', 'Los Angeles']\n",
    "}\n",
    "\n",
    "df = pd.DataFrame(data)\n",
    "print(\"DataFrame:\")\n",
    "print(df)\n",
    "\n",
    "# Creating a Series \n",
    "age_series = df['Age']\n",
    "print(\"\\nSeries:\")\n",
    "print(age_series)\n"
   ]
  },
  {
   "cell_type": "markdown",
   "id": "1baddf68-11ed-45fb-8771-7432b50fe7d0",
   "metadata": {},
   "source": [
    "Q5- Q5. What are some common functions you can use to manipulate data in a Pandas DataFrame? Can you give an example of when you might use one of these functions?\n",
    "Ans- Certainly! There are numerous functions in Pandas that you can use to manipulate data in a DataFrame. Here are some common functions along with examples:\n",
    "\n",
    "1. **head() and tail():** Display the first or last N rows of the DataFrame.\n",
    "\n",
    "    ```python\n",
    "    print(df.head())  # Display the first 5 rows\n",
    "    print(df.tail(3))  # Display the last 3 rows\n",
    "    ```\n",
    "\n",
    "2. **info():** Display a concise summary of the DataFrame, including data types and non-null values.\n",
    "\n",
    "    ```python\n",
    "    print(df.info())\n",
    "    ```\n",
    "\n",
    "3. **describe():** Generate descriptive statistics of the DataFrame.\n",
    "\n",
    "    ```python\n",
    "    print(df.describe())\n",
    "    ```\n",
    "\n",
    "4. **mean(), sum(), count():** Calculate the mean, sum, or count of values in a column.\n",
    "\n",
    "    ```python\n",
    "    print(df['Age'].mean())  # Mean of the 'Age' column\n",
    "    print(df['Salary'].sum())  # Sum of the 'Salary' column\n",
    "    print(df['Gender'].value_counts())  # Count of each unique value in 'Gender'\n",
    "    ```\n",
    "\n",
    "5. **sort_values():** Sort the DataFrame by one or more columns.\n",
    "\n",
    "    ```python\n",
    "    df_sorted = df.sort_values(by='Age', ascending=False)\n",
    "    print(df_sorted)\n",
    "    ```\n",
    "\n",
    "6. **drop():** Remove columns or rows from the DataFrame.\n",
    "\n",
    "    ```python\n",
    "    df_without_city = df.drop('City', axis=1)  # Remove the 'City' column\n",
    "    df_without_row = df.drop(0, axis=0)  # Remove the first row\n",
    "    ```\n",
    "\n",
    "7. **filter():** Select specific columns or rows based on conditions.\n",
    "\n",
    "    ```python\n",
    "    df_filtered = df[df['Age'] > 30]  # Select rows where 'Age' is greater than 30\n",
    "    ```\n",
    "\n",
    "8. **groupby():** Group the DataFrame by a column and perform operations on each group.\n",
    "\n",
    "    ```python\n",
    "    grouped_data = df.groupby('Gender')['Age'].mean()  # Mean age for each gender\n",
    "    ```\n",
    "\n",
    "These are just a few examples, and Pandas offers a wide range of functions for data manipulation. The choice of function depends on the specific task you want to perform, such as filtering, sorting, summarizing, or transforming data."
   ]
  },
  {
   "cell_type": "markdown",
   "id": "28bf2ae9-2477-4e42-bc5d-5c2664ce80a0",
   "metadata": {},
   "source": [
    "Q6- Q6. Which of the following is mutable in nature Series, DataFrame, Panel?"
   ]
  },
  {
   "cell_type": "code",
   "execution_count": 6,
   "id": "dc5488fa-30a3-4973-8b47-3e67f25f5ec1",
   "metadata": {},
   "outputs": [
    {
     "name": "stdout",
     "output_type": "stream",
     "text": [
      "Original Series:\n",
      "0    1\n",
      "1    2\n",
      "2    3\n",
      "3    4\n",
      "dtype: int64\n",
      "\n",
      "Modified Series:\n",
      "0     1\n",
      "1     2\n",
      "2    10\n",
      "3    20\n",
      "dtype: int64\n",
      "\n",
      "Original DataFrame:\n",
      "   A  B\n",
      "0  1  4\n",
      "1  2  5\n",
      "2  3  6\n",
      "\n",
      "Modified DataFrame:\n",
      "    A   B\n",
      "0   1   4\n",
      "1  10   5\n",
      "2   3  20\n"
     ]
    }
   ],
   "source": [
    "#Ans-\n",
    "import pandas as pd\n",
    "\n",
    "# Creating a Series\n",
    "s = pd.Series([1, 2, 3, 4])\n",
    "print(\"Original Series:\")\n",
    "print(s)\n",
    "\n",
    "# Modifying the Series\n",
    "s[2] = 10\n",
    "s[3] = 20\n",
    "print(\"\\nModified Series:\")\n",
    "print(s)\n",
    "\n",
    "# Creating a DataFrame\n",
    "df = pd.DataFrame({'A': [1, 2, 3], 'B': [4, 5, 6]})\n",
    "print(\"\\nOriginal DataFrame:\")\n",
    "print(df)\n",
    "\n",
    "# Modifying the DataFrame\n",
    "df['A'][1] = 10\n",
    "df['B'][2] = 20\n",
    "print(\"\\nModified DataFrame:\")\n",
    "print(df)\n"
   ]
  },
  {
   "cell_type": "markdown",
   "id": "1045ab3d-9101-449a-8280-fcfa87a4ef7f",
   "metadata": {},
   "source": [
    "Q7-Q7. Create a DataFrame using multiple Series. Explain with an example."
   ]
  },
  {
   "cell_type": "code",
   "execution_count": 7,
   "id": "9fbd581d-02d8-41e8-8fe4-790bee328553",
   "metadata": {},
   "outputs": [
    {
     "name": "stdout",
     "output_type": "stream",
     "text": [
      "      Name  Age           City\n",
      "0    Alice   25       New York\n",
      "1      Bob   30  San Francisco\n",
      "2  Charlie   35    Los Angeles\n"
     ]
    }
   ],
   "source": [
    "#Ans-\n",
    "import pandas as pd\n",
    "\n",
    "# Creating multiple Series\n",
    "names_series = pd.Series(['Alice', 'Bob', 'Charlie'])\n",
    "ages_series = pd.Series([25, 30, 35])\n",
    "cities_series = pd.Series(['New York', 'San Francisco', 'Los Angeles'])\n",
    "\n",
    "# Creating a DataFrame using the Series\n",
    "df = pd.DataFrame({'Name': names_series, 'Age': ages_series, 'City': cities_series})\n",
    "\n",
    "# Print the DataFrame\n",
    "print(df)\n"
   ]
  },
  {
   "cell_type": "code",
   "execution_count": null,
   "id": "d065b76a-adc4-4f32-9d3e-d20d54575dbb",
   "metadata": {},
   "outputs": [],
   "source": []
  }
 ],
 "metadata": {
  "kernelspec": {
   "display_name": "Python 3 (ipykernel)",
   "language": "python",
   "name": "python3"
  },
  "language_info": {
   "codemirror_mode": {
    "name": "ipython",
    "version": 3
   },
   "file_extension": ".py",
   "mimetype": "text/x-python",
   "name": "python",
   "nbconvert_exporter": "python",
   "pygments_lexer": "ipython3",
   "version": "3.10.8"
  }
 },
 "nbformat": 4,
 "nbformat_minor": 5
}
